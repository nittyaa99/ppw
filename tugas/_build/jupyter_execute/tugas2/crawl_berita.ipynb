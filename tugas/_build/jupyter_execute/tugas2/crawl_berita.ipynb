{
 "cells": [
  {
   "cell_type": "markdown",
   "metadata": {
    "id": "E_liRkOyRYrT"
   },
   "source": [
    "**PENCARIAN DAN PENAMBANGAN WEB - TUGAS 2 : Membuat VSM dan Menghitung TF-IDF berdasarkan hasil crawling berita**"
   ]
  },
  {
   "cell_type": "markdown",
   "metadata": {
    "id": "wVIyyFt8Rjj9"
   },
   "source": [
    "Nama : Isnita Widyur Rahmah\n",
    "NIM : 220411100048\n",
    "Kelas : IF 7A"
   ]
  },
  {
   "cell_type": "markdown",
   "metadata": {
    "id": "lmX0HnDfRlg0"
   },
   "source": [
    "Link Project : https://github.com/taawdyy/ppw"
   ]
  },
  {
   "cell_type": "markdown",
   "metadata": {
    "id": "fRxFWwZORoNM"
   },
   "source": [
    "**Crawling Berita Online (CNN Indonesia)**"
   ]
  },
  {
   "cell_type": "markdown",
   "metadata": {
    "id": "7C4RYNu-Rp11"
   },
   "source": [
    "Crawling berita adalah proses otomatisasi pengambilan data dari situs web berita atau sumber informasi lainnya untuk tujuan analisis, penyimpanan, atau penyajian informasi. Proses ini dilakukan oleh program atau skrip yang dikenal sebagai web crawler atau spider"
   ]
  },
  {
   "cell_type": "markdown",
   "metadata": {
    "id": "XTcG24_9SkgI"
   },
   "source": [
    "Import Library"
   ]
  },
  {
   "cell_type": "code",
   "execution_count": 1,
   "metadata": {
    "colab": {
     "base_uri": "https://localhost:8080/"
    },
    "id": "lFs273JYhWXz",
    "outputId": "6365c6c1-b9dd-4ea1-d693-50cf42571b94"
   },
   "outputs": [
    {
     "name": "stdout",
     "output_type": "stream",
     "text": [
      "Requirement already satisfied: requests in c:\\users\\isnita\\appdata\\local\\programs\\python\\python310\\lib\\site-packages (2.31.0)\n",
      "Requirement already satisfied: beautifulsoup4 in c:\\users\\isnita\\appdata\\local\\programs\\python\\python310\\lib\\site-packages (4.12.3)\n",
      "Requirement already satisfied: pandas in c:\\users\\isnita\\appdata\\local\\programs\\python\\python310\\lib\\site-packages (2.0.3)\n",
      "Requirement already satisfied: charset-normalizer<4,>=2 in c:\\users\\isnita\\appdata\\local\\programs\\python\\python310\\lib\\site-packages (from requests) (3.3.2)\n",
      "Requirement already satisfied: certifi>=2017.4.17 in c:\\users\\isnita\\appdata\\local\\programs\\python\\python310\\lib\\site-packages (from requests) (2023.7.22)\n",
      "Requirement already satisfied: urllib3<3,>=1.21.1 in c:\\users\\isnita\\appdata\\local\\programs\\python\\python310\\lib\\site-packages (from requests) (2.0.4)\n",
      "Requirement already satisfied: idna<4,>=2.5 in c:\\users\\isnita\\appdata\\local\\programs\\python\\python310\\lib\\site-packages (from requests) (3.4)\n",
      "Requirement already satisfied: soupsieve>1.2 in c:\\users\\isnita\\appdata\\local\\programs\\python\\python310\\lib\\site-packages (from beautifulsoup4) (2.6)\n",
      "Requirement already satisfied: numpy>=1.21.0 in c:\\users\\isnita\\appdata\\local\\programs\\python\\python310\\lib\\site-packages (from pandas) (1.25.2)\n",
      "Requirement already satisfied: tzdata>=2022.1 in c:\\users\\isnita\\appdata\\local\\programs\\python\\python310\\lib\\site-packages (from pandas) (2023.3)\n",
      "Requirement already satisfied: pytz>=2020.1 in c:\\users\\isnita\\appdata\\local\\programs\\python\\python310\\lib\\site-packages (from pandas) (2023.3)\n",
      "Requirement already satisfied: python-dateutil>=2.8.2 in c:\\users\\isnita\\appdata\\roaming\\python\\python310\\site-packages (from pandas) (2.8.2)\n",
      "Requirement already satisfied: six>=1.5 in c:\\users\\isnita\\appdata\\roaming\\python\\python310\\site-packages (from python-dateutil>=2.8.2->pandas) (1.16.0)\n",
      "Note: you may need to restart the kernel to use updated packages.\n"
     ]
    },
    {
     "name": "stderr",
     "output_type": "stream",
     "text": [
      "\n",
      "[notice] A new release of pip available: 22.2.1 -> 24.3.1\n",
      "[notice] To update, run: python.exe -m pip install --upgrade pip\n"
     ]
    }
   ],
   "source": [
    "pip install requests beautifulsoup4 pandas\n"
   ]
  },
  {
   "cell_type": "code",
   "execution_count": 2,
   "metadata": {
    "id": "RnNYLmx4rTy-"
   },
   "outputs": [],
   "source": [
    "import requests\n",
    "import pandas as pd\n",
    "from bs4 import BeautifulSoup"
   ]
  },
  {
   "cell_type": "markdown",
   "metadata": {
    "id": "G6_0lMKxSzfd"
   },
   "source": [
    "requests digunakan untuk mengambil halaman web, BeautifulSoup untuk mengekstrak informasi dari konten HTML, dan pandas untuk menyimpan dan mengolah data yang diambil."
   ]
  },
  {
   "cell_type": "markdown",
   "metadata": {
    "id": "b1B_gJmcS_Wr"
   },
   "source": [
    "Mendefinisikan URL"
   ]
  },
  {
   "cell_type": "code",
   "execution_count": 3,
   "metadata": {
    "id": "69hA1wiurdg5"
   },
   "outputs": [],
   "source": [
    "category_urls = [\n",
    "    'https://www.cnnindonesia.com/ekonomi/indeks/5',\n",
    "    'https://www.cnnindonesia.com/olahraga/indeks/7'\n",
    "]"
   ]
  },
  {
   "cell_type": "markdown",
   "metadata": {
    "id": "epueqowbTMuX"
   },
   "source": [
    "Mengumpulkan Data"
   ]
  },
  {
   "cell_type": "code",
   "execution_count": 4,
   "metadata": {
    "id": "FFMlb7POrxFP"
   },
   "outputs": [],
   "source": [
    "def crawl_article(url):\n",
    "    response = requests.get(url)\n",
    "    soup = BeautifulSoup(response.content, 'html.parser')\n",
    "\n",
    "    # Mengambil judul\n",
    "    title_element = soup.find('h1', class_='text-cnn_black')\n",
    "    title = title_element.get_text().strip() if title_element else 'Judul tidak ditemukan'\n",
    "\n",
    "    # Mengambil Isi\n",
    "    content_div = soup.find('div', class_='detail-text')\n",
    "    if content_div:\n",
    "        paragraphs = content_div.find_all('p')\n",
    "        content = \"\\n\".join([p.get_text().strip() for p in paragraphs])\n",
    "    else:\n",
    "        content = 'Isi artikel tidak ditemukan'\n",
    "\n",
    "    # Mengambil tanggal\n",
    "    date_div = soup.find('div', class_='text-cnn_grey text-sm mb-4')\n",
    "    date_text = date_div.text.strip() if date_div else 'Tanggal tidak ditemukan'\n",
    "\n",
    "    # Mengambil kategori\n",
    "    cattegory_div = soup.find('a', class_=\"text-sm text-cnn_black_light3 hover:text-cnn_red gtm_breadcrumb_kanal\")\n",
    "    cattegory = cattegory_div.text.strip() if cattegory_div else 'Kategori tidak ditemukan'\n",
    "\n",
    "    return {'Judul': title, 'Isi': content, 'Tanggal': date_text, 'Kategori': cattegory}"
   ]
  },
  {
   "cell_type": "markdown",
   "metadata": {
    "id": "4Se2LyZnTtVn"
   },
   "source": [
    "Melakukan Crawling Web"
   ]
  },
  {
   "cell_type": "code",
   "execution_count": 5,
   "metadata": {
    "id": "4vDptUts3IHh"
   },
   "outputs": [],
   "source": [
    "def crawl_page(url, article_count, max_articles, articles):\n",
    "    response = requests.get(url)\n",
    "    soup = BeautifulSoup(response.content, 'html.parser')\n",
    "\n",
    "    article_links = soup.find_all('a', class_='flex group items-center gap-4')\n",
    "    for link in article_links:\n",
    "        if article_count >= max_articles:\n",
    "            return article_count\n",
    "        article_url = link['href']\n",
    "        article = crawl_article(article_url)\n",
    "        articles.append(article)\n",
    "        article_count += 1\n",
    "\n",
    "    next_button = soup.find('a', class_='inline-flex items-center justify-center w-[30px] h-[30px]')\n",
    "    next_url = next_button['href'] if next_button else None\n",
    "\n",
    "    if next_url and article_count < max_articles:\n",
    "        return crawl_page(next_url, article_count, max_articles, articles)\n",
    "\n",
    "    return article_count\n"
   ]
  },
  {
   "cell_type": "markdown",
   "metadata": {
    "id": "d1QXPgkmT025"
   },
   "source": [
    "Mengumpulkan Artikel Berita dari berbagai Kategori"
   ]
  },
  {
   "cell_type": "code",
   "execution_count": 6,
   "metadata": {
    "id": "VN2TAz2S3NL3"
   },
   "outputs": [],
   "source": [
    "def crawl_category(url, max_articles):\n",
    "    articles = []\n",
    "    article_count = 0\n",
    "    print(f'\\nMengambil data dari {url}')\n",
    "    article_count = crawl_page(url, article_count, max_articles, articles)\n",
    "    return articles"
   ]
  },
  {
   "cell_type": "markdown",
   "metadata": {
    "id": "087j1RZNUOtT"
   },
   "source": [
    "Mengambil Artikel Berita dari beberapa Kategori yang telah ditentukan dalam category_urls."
   ]
  },
  {
   "cell_type": "code",
   "execution_count": 7,
   "metadata": {
    "colab": {
     "base_uri": "https://localhost:8080/"
    },
    "id": "5c3gxi9E3Vr_",
    "outputId": "3f13610e-a57d-4387-db98-2eb562fd42d1"
   },
   "outputs": [
    {
     "name": "stdout",
     "output_type": "stream",
     "text": [
      "\n",
      "Mengambil data dari https://www.cnnindonesia.com/ekonomi/indeks/5\n"
     ]
    },
    {
     "name": "stdout",
     "output_type": "stream",
     "text": [
      "\n",
      "Mengambil data dari https://www.cnnindonesia.com/olahraga/indeks/7\n"
     ]
    }
   ],
   "source": [
    "max_articles_per_category = 50\n",
    "all_articles = []\n",
    "\n",
    "for url in category_urls:\n",
    "    articles = crawl_category(url, max_articles_per_category)\n",
    "    all_articles.extend(articles)"
   ]
  },
  {
   "cell_type": "markdown",
   "metadata": {
    "id": "lDM8fns8UT_f"
   },
   "source": [
    "Konversi ke dalam DataFrame"
   ]
  },
  {
   "cell_type": "code",
   "execution_count": 8,
   "metadata": {
    "colab": {
     "base_uri": "https://localhost:8080/",
     "height": 26904
    },
    "id": "LjT-Ktoe3jx1",
    "outputId": "9a31e5df-a775-4d09-b117-971edaa7fe8e"
   },
   "outputs": [
    {
     "data": {
      "text/html": [
       "<div>\n",
       "<style scoped>\n",
       "    .dataframe tbody tr th:only-of-type {\n",
       "        vertical-align: middle;\n",
       "    }\n",
       "\n",
       "    .dataframe tbody tr th {\n",
       "        vertical-align: top;\n",
       "    }\n",
       "\n",
       "    .dataframe thead th {\n",
       "        text-align: right;\n",
       "    }\n",
       "</style>\n",
       "<table border=\"1\" class=\"dataframe\">\n",
       "  <thead>\n",
       "    <tr style=\"text-align: right;\">\n",
       "      <th></th>\n",
       "      <th>Judul</th>\n",
       "      <th>Isi</th>\n",
       "      <th>Tanggal</th>\n",
       "      <th>Kategori</th>\n",
       "    </tr>\n",
       "  </thead>\n",
       "  <tbody>\n",
       "    <tr>\n",
       "      <th>0</th>\n",
       "      <td>Karyawan Boeing Akhiri Mogok Kerja usai Sepaka...</td>\n",
       "      <td>Ribuan pekerja Boeing akhirnya mengakhiri mogo...</td>\n",
       "      <td>Selasa, 05 Nov 2024 22:06 WIB</td>\n",
       "      <td>Kategori tidak ditemukan</td>\n",
       "    </tr>\n",
       "    <tr>\n",
       "      <th>1</th>\n",
       "      <td>Pakar: BPA Bahaya Bagi Kesehatan, Jangan Diang...</td>\n",
       "      <td>Bahaya paparan Bisphenol A (BPA) dalam wadah p...</td>\n",
       "      <td>Selasa, 05 Nov 2024 21:57 WIB</td>\n",
       "      <td>Kategori tidak ditemukan</td>\n",
       "    </tr>\n",
       "    <tr>\n",
       "      <th>2</th>\n",
       "      <td>Respons AHY dan Nusron soal Pelantikan Basuki ...</td>\n",
       "      <td>Menteri Koordinator Infrastruktur dan Pembangu...</td>\n",
       "      <td>Selasa, 05 Nov 2024 21:28 WIB</td>\n",
       "      <td>Kategori tidak ditemukan</td>\n",
       "    </tr>\n",
       "    <tr>\n",
       "      <th>3</th>\n",
       "      <td>Airlangga soal Ekonomi Kuartal III Tumbuh di B...</td>\n",
       "      <td>Menteri Koordinator Bidang Perekonomian Airlan...</td>\n",
       "      <td>Selasa, 05 Nov 2024 21:03 WIB</td>\n",
       "      <td>Kategori tidak ditemukan</td>\n",
       "    </tr>\n",
       "    <tr>\n",
       "      <th>4</th>\n",
       "      <td>Tak Lagi BUMN, Bulog Bakal Jadi Badan Otonom d...</td>\n",
       "      <td>Direktur Utama Perum Bulog Wahyu Suparyono men...</td>\n",
       "      <td>Selasa, 05 Nov 2024 20:46 WIB</td>\n",
       "      <td>Kategori tidak ditemukan</td>\n",
       "    </tr>\n",
       "    <tr>\n",
       "      <th>...</th>\n",
       "      <td>...</td>\n",
       "      <td>...</td>\n",
       "      <td>...</td>\n",
       "      <td>...</td>\n",
       "    </tr>\n",
       "    <tr>\n",
       "      <th>95</th>\n",
       "      <td>Malaysia Gagal Lolos Semifinal Piala AFF Futsa...</td>\n",
       "      <td>Thailand berhasil mengalahkan Malaysia 3-1 dal...</td>\n",
       "      <td>Selasa, 05 Nov 2024 19:58 WIB</td>\n",
       "      <td>Kategori tidak ditemukan</td>\n",
       "    </tr>\n",
       "    <tr>\n",
       "      <th>96</th>\n",
       "      <td>Akmal: Indonesia Perlu Anut Paspor Ganda untuk...</td>\n",
       "      <td>Pengamat sepak bola nasional, Akmal Marhali, m...</td>\n",
       "      <td>Selasa, 05 Nov 2024 19:33 WIB</td>\n",
       "      <td>Kategori tidak ditemukan</td>\n",
       "    </tr>\n",
       "    <tr>\n",
       "      <th>97</th>\n",
       "      <td>Prediksi Susunan Pemain Real Madrid vs AC Mila...</td>\n",
       "      <td>Real Madrid akan menjamu AC Milan dalam lanjut...</td>\n",
       "      <td>Selasa, 05 Nov 2024 19:10 WIB</td>\n",
       "      <td>Kategori tidak ditemukan</td>\n",
       "    </tr>\n",
       "    <tr>\n",
       "      <th>98</th>\n",
       "      <td>Resmi, Final Martin vs Bagnaia di MotoGP Catal...</td>\n",
       "      <td>Dorna Sports selaku penyelenggara MotoGP menet...</td>\n",
       "      <td>Selasa, 05 Nov 2024 18:47 WIB</td>\n",
       "      <td>Kategori tidak ditemukan</td>\n",
       "    </tr>\n",
       "    <tr>\n",
       "      <th>99</th>\n",
       "      <td>FOTO: Indonesia ke Semifinal Piala AFF Futsal ...</td>\n",
       "      <td></td>\n",
       "      <td>Tanggal tidak ditemukan</td>\n",
       "      <td>Kategori tidak ditemukan</td>\n",
       "    </tr>\n",
       "  </tbody>\n",
       "</table>\n",
       "<p>100 rows × 4 columns</p>\n",
       "</div>"
      ],
      "text/plain": [
       "                                                Judul  \\\n",
       "0   Karyawan Boeing Akhiri Mogok Kerja usai Sepaka...   \n",
       "1   Pakar: BPA Bahaya Bagi Kesehatan, Jangan Diang...   \n",
       "2   Respons AHY dan Nusron soal Pelantikan Basuki ...   \n",
       "3   Airlangga soal Ekonomi Kuartal III Tumbuh di B...   \n",
       "4   Tak Lagi BUMN, Bulog Bakal Jadi Badan Otonom d...   \n",
       "..                                                ...   \n",
       "95  Malaysia Gagal Lolos Semifinal Piala AFF Futsa...   \n",
       "96  Akmal: Indonesia Perlu Anut Paspor Ganda untuk...   \n",
       "97  Prediksi Susunan Pemain Real Madrid vs AC Mila...   \n",
       "98  Resmi, Final Martin vs Bagnaia di MotoGP Catal...   \n",
       "99  FOTO: Indonesia ke Semifinal Piala AFF Futsal ...   \n",
       "\n",
       "                                                  Isi  \\\n",
       "0   Ribuan pekerja Boeing akhirnya mengakhiri mogo...   \n",
       "1   Bahaya paparan Bisphenol A (BPA) dalam wadah p...   \n",
       "2   Menteri Koordinator Infrastruktur dan Pembangu...   \n",
       "3   Menteri Koordinator Bidang Perekonomian Airlan...   \n",
       "4   Direktur Utama Perum Bulog Wahyu Suparyono men...   \n",
       "..                                                ...   \n",
       "95  Thailand berhasil mengalahkan Malaysia 3-1 dal...   \n",
       "96  Pengamat sepak bola nasional, Akmal Marhali, m...   \n",
       "97  Real Madrid akan menjamu AC Milan dalam lanjut...   \n",
       "98  Dorna Sports selaku penyelenggara MotoGP menet...   \n",
       "99                                                      \n",
       "\n",
       "                          Tanggal                  Kategori  \n",
       "0   Selasa, 05 Nov 2024 22:06 WIB  Kategori tidak ditemukan  \n",
       "1   Selasa, 05 Nov 2024 21:57 WIB  Kategori tidak ditemukan  \n",
       "2   Selasa, 05 Nov 2024 21:28 WIB  Kategori tidak ditemukan  \n",
       "3   Selasa, 05 Nov 2024 21:03 WIB  Kategori tidak ditemukan  \n",
       "4   Selasa, 05 Nov 2024 20:46 WIB  Kategori tidak ditemukan  \n",
       "..                            ...                       ...  \n",
       "95  Selasa, 05 Nov 2024 19:58 WIB  Kategori tidak ditemukan  \n",
       "96  Selasa, 05 Nov 2024 19:33 WIB  Kategori tidak ditemukan  \n",
       "97  Selasa, 05 Nov 2024 19:10 WIB  Kategori tidak ditemukan  \n",
       "98  Selasa, 05 Nov 2024 18:47 WIB  Kategori tidak ditemukan  \n",
       "99        Tanggal tidak ditemukan  Kategori tidak ditemukan  \n",
       "\n",
       "[100 rows x 4 columns]"
      ]
     },
     "execution_count": 8,
     "metadata": {},
     "output_type": "execute_result"
    }
   ],
   "source": [
    "df = pd.DataFrame(all_articles)\n",
    "df"
   ]
  },
  {
   "cell_type": "markdown",
   "metadata": {
    "id": "loF-Sb-8UklU"
   },
   "source": [
    "Simpan dalam bentuk CSV"
   ]
  },
  {
   "cell_type": "code",
   "execution_count": 9,
   "metadata": {
    "id": "JZpzA3xf3lig"
   },
   "outputs": [],
   "source": [
    "df.to_csv('crawl_berita.csv', index=False, encoding='utf-8')"
   ]
  }
 ],
 "metadata": {
  "colab": {
   "provenance": []
  },
  "kernelspec": {
   "display_name": "Python 3",
   "name": "python3"
  },
  "language_info": {
   "codemirror_mode": {
    "name": "ipython",
    "version": 3
   },
   "file_extension": ".py",
   "mimetype": "text/x-python",
   "name": "python",
   "nbconvert_exporter": "python",
   "pygments_lexer": "ipython3",
   "version": "3.10.6"
  }
 },
 "nbformat": 4,
 "nbformat_minor": 0
}