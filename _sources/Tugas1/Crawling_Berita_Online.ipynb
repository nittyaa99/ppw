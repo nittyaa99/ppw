{
 "cells": [
  {
   "cell_type": "markdown",
   "metadata": {
    "id": "4FaDyZCTrYi-"
   },
   "source": [
    "# **Tugas 1 - Crawling Berita Online**"
   ]
  },
  {
   "cell_type": "markdown",
   "metadata": {
    "id": "v8ojUVbcr-4L"
   },
   "source": [
    "Nama : Isnita Widyur Rahmah\n",
    "NIM : 220411100048\n",
    "Kelas : IF 7A"
   ]
  },
  {
   "cell_type": "markdown",
   "metadata": {
    "id": "2I1N7oxTsKCi"
   },
   "source": [
    "Link Project : https://github.com/nittyaa99/ppw"
   ]
  },
  {
   "cell_type": "markdown",
   "metadata": {
    "id": "vvbTM5rDsPkP"
   },
   "source": [
    "## Install Pustaka"
   ]
  },
  {
   "cell_type": "code",
   "execution_count": null,
   "metadata": {
    "colab": {
     "base_uri": "https://localhost:8080/"
    },
    "id": "31eL_YhRHq2B",
    "outputId": "4be47ef4-a37e-4058-c58a-cd9c70cdc5b4"
   },
   "outputs": [
    {
     "name": "stdout",
     "output_type": "stream",
     "text": [
      "Requirement already satisfied: requests in /usr/local/lib/python3.10/dist-packages (2.32.3)\n",
      "Requirement already satisfied: beautifulsoup4 in /usr/local/lib/python3.10/dist-packages (4.12.3)\n",
      "Requirement already satisfied: pandas in /usr/local/lib/python3.10/dist-packages (2.2.2)\n",
      "Requirement already satisfied: charset-normalizer<4,>=2 in /usr/local/lib/python3.10/dist-packages (from requests) (3.4.0)\n",
      "Requirement already satisfied: idna<4,>=2.5 in /usr/local/lib/python3.10/dist-packages (from requests) (3.10)\n",
      "Requirement already satisfied: urllib3<3,>=1.21.1 in /usr/local/lib/python3.10/dist-packages (from requests) (2.2.3)\n",
      "Requirement already satisfied: certifi>=2017.4.17 in /usr/local/lib/python3.10/dist-packages (from requests) (2024.8.30)\n",
      "Requirement already satisfied: soupsieve>1.2 in /usr/local/lib/python3.10/dist-packages (from beautifulsoup4) (2.6)\n",
      "Requirement already satisfied: numpy>=1.22.4 in /usr/local/lib/python3.10/dist-packages (from pandas) (1.26.4)\n",
      "Requirement already satisfied: python-dateutil>=2.8.2 in /usr/local/lib/python3.10/dist-packages (from pandas) (2.8.2)\n",
      "Requirement already satisfied: pytz>=2020.1 in /usr/local/lib/python3.10/dist-packages (from pandas) (2024.2)\n",
      "Requirement already satisfied: tzdata>=2022.7 in /usr/local/lib/python3.10/dist-packages (from pandas) (2024.2)\n",
      "Requirement already satisfied: six>=1.5 in /usr/local/lib/python3.10/dist-packages (from python-dateutil>=2.8.2->pandas) (1.16.0)\n"
     ]
    }
   ],
   "source": [
    "pip install requests beautifulsoup4 pandas "
   ]
  },
  {
   "cell_type": "markdown",
   "metadata": {
    "id": "gnILrZGftiBD"
   },
   "source": [
    "## Import Pustaka\n"
   ]
  },
  {
   "cell_type": "code",
   "execution_count": 49,
   "metadata": {
    "id": "35l6h-h7Hu08"
   },
   "outputs": [],
   "source": [
    "import requests\n",
    "import pandas as pd\n",
    "from bs4 import BeautifulSoup"
   ]
  },
  {
   "cell_type": "markdown",
   "metadata": {
    "id": "q_3S2FPXuBmw"
   },
   "source": [
    "## Menetapkan URL untuk Crawling Berita"
   ]
  },
  {
   "cell_type": "code",
   "execution_count": 50,
   "metadata": {
    "id": "MF0wVG0kHx4M"
   },
   "outputs": [],
   "source": [
    "category_url = 'https://www.cnnindonesia.com/ekonomi/indeks/5'"
   ]
  },
  {
   "cell_type": "markdown",
   "metadata": {
    "id": "auG620B9uTbX"
   },
   "source": [
    "## Mengambil Judul, Isi, Tanggal dan Kategori dari Berita"
   ]
  },
  {
   "cell_type": "code",
   "execution_count": 51,
   "metadata": {
    "id": "6c6PUuxZQP4w"
   },
   "outputs": [],
   "source": [
    "def crawl_article(url):\n",
    "    response = requests.get(url)\n",
    "    soup = BeautifulSoup(response.content, 'html.parser')\n",
    "\n",
    "    # Mengambil judul\n",
    "    title_element = soup.find('h1', class_='text-cnn_black')\n",
    "    title = title_element.get_text().strip() if title_element else 'Judul tidak ditemukan'\n",
    "\n",
    "    # Mengambil isi\n",
    "    content_div = soup.find('div', class_='detail-text')\n",
    "    if content_div:\n",
    "        paragraphs = content_div.find_all('p')\n",
    "        content = \"\\n\".join([p.get_text().strip() for p in paragraphs])\n",
    "    else:\n",
    "        content = 'Isi artikel tidak ditemukan'\n",
    "\n",
    "    # Mengambil tanggal\n",
    "    date_div = soup.find('div', class_='text-cnn_grey text-sm mb-4')\n",
    "    date_text = date_div.text.strip() if date_div else 'Tanggal tidak ditemukan'\n",
    "\n",
    "    # Mengambil kategori\n",
    "    category_div = soup.find(\"meta\", attrs={'name': 'dtk:namakanal'})\n",
    "    category = category_div['content'].strip() if category_div and 'content' in category_div.attrs else 'Kategori tidak ditemukan'\n",
    "\n",
    "    return {'Judul': title, 'Isi': content, 'Tanggal': date_text, 'Kategori': category}"
   ]
  },
  {
   "cell_type": "markdown",
   "metadata": {
    "id": "6o9qsVai-RG-"
   },
   "source": [
    "## Mengambil Daftar Artikel dari URL"
   ]
  },
  {
   "cell_type": "code",
   "execution_count": 52,
   "metadata": {
    "id": "0KarGE55QVCX"
   },
   "outputs": [],
   "source": [
    "def crawl_page(url):\n",
    "    response = requests.get(url)\n",
    "    soup = BeautifulSoup(response.content, 'html.parser')\n",
    "\n",
    "    articles = []\n",
    "    article_links = soup.find_all('a', class_='flex group items-center gap-4')\n",
    "    for link in article_links:\n",
    "        article_url = link['href']\n",
    "        article = crawl_article(article_url)\n",
    "        articles.append(article)\n",
    "\n",
    "    return articles"
   ]
  },
  {
   "cell_type": "markdown",
   "metadata": {
    "id": "Ge37TWfV-bOr"
   },
   "source": [
    "## Menjalankan Fungsi untuk Mengambil Semua Data Artikel"
   ]
  },
  {
   "cell_type": "code",
   "execution_count": 53,
   "metadata": {
    "id": "-3gecQolQgRD"
   },
   "outputs": [],
   "source": [
    "all_articles = crawl_page(category_url)"
   ]
  },
  {
   "cell_type": "markdown",
   "metadata": {
    "id": "c79uTgmh-3LG"
   },
   "source": [
    "## Menampilkan Data Berita"
   ]
  },
  {
   "cell_type": "code",
   "execution_count": 54,
   "metadata": {
    "colab": {
     "base_uri": "https://localhost:8080/",
     "height": 363
    },
    "id": "AudcphSvH6wL",
    "outputId": "066a4cbd-4cb1-4861-f74d-240c80cb64fa"
   },
   "outputs": [
    {
     "data": {
      "application/vnd.google.colaboratory.intrinsic+json": {
       "summary": "{\n  \"name\": \"df\",\n  \"rows\": 10,\n  \"fields\": [\n    {\n      \"column\": \"Judul\",\n      \"properties\": {\n        \"dtype\": \"string\",\n        \"num_unique_values\": 10,\n        \"samples\": [\n          \"Bos Badan Pangan Klaim Harga Beras-Telur RI Lebih Murah dari Malaysia\",\n          \"Pertamina Eco RunFest 2024, Ajang Lari Karbon Netral Pertama di RI\",\n          \"Prabowo Tambah Dua Ditjen Baru di Kemenkeu, Sri Mulyani Punya 9 Dirjen\"\n        ],\n        \"semantic_type\": \"\",\n        \"description\": \"\"\n      }\n    },\n    {\n      \"column\": \"Isi\",\n      \"properties\": {\n        \"dtype\": \"string\",\n        \"num_unique_values\": 10,\n        \"samples\": [\n          \"Kepala Badan Pangan Nasional Arief Prasetyo Adi mengklaim\\u00a0harga pangan di Indonesia lebih murah dibandingkan negara lain, termasuk Malaysia. Ia mengatakan sudah mengecek sendiri harga pangan di Negeri Jiran.\\n\\\"Kalau harga pangan kita dibilang paling tinggi sebenarnya tidak juga. Saya kemarin cek sendiri di Singapura, Malaysia, Korea, dan beberapa tempat saat kita sedang visit, harga di rak itu semua kalau kita konversi (ke rupiah), lebih tinggi dari kita,\\\" kata Arief dalam rapat dengar pendapat dengan Komisi IV DPR, Rabu (6/11).\\nBerdasarkan temuan Arief di salah satu supermarket di Malaysia pada 10 Oktober lalu, beras dibanderol setara Rp14.104-Rp17.272 per kg. Kemudian, telur ayam Rp28.080-Rp30.600 per 10 butir, bawang putih Rp55.450 per kg, dan bawang merah Rp46.285 per kg.\\nADVERTISEMENT\\nSCROLL TO CONTINUE WITH CONTENT\\nAngka itu memang lebih mahal dibandingkan harga pangan di Indonesia.\\n\\nBerdasarkan Panel Harga Pangan Badan Pangan Nasional, beras premium dibanderol Rp15.480 per kg, telur ayam Rp28.570 per kg. Selanjutnya, bawang putih Ro40.370 per kg dan bawang merah Rp34.020 per kg.\\nNamun, Arief mengatakan ada juga harga pangan yang lebih mahal di Malaysia dibandingkan Indonesia, yakni gula.\\n\\\"Kalau gula mereka memang lebih murah karena mereka menggunakan refined sugar (gula rafinasi). Kita gula konsumsi kita pakai gula kristal putih, kita tidak gunakan gula rafinasi,\\\" imbuhnya.\\n\\nBank Dunia sebelumnya menyebut harga pangan khususnya beras di Indonesia lebih mahal dibandingkan negara AEAN lain. Namun, kesejahteraan petani justru masih rendah.\\nBerdasarkan Survei Terpadu Pertanian 2021, kesejahteraan petani Indonesia masih di bawah rata-rata, bahkan pendapatannya kurang dari US$1 per hari atau senilai Rp15.207 dan setahun di bawah US$341 dolar AS atau Rp5 juta.\\nPendapatan ini dinilai tidak sebanding dengan biaya produksi yang dikeluarkan oleh petani. Oleh karenanya, masyarakat Indonesia disebut harus membayar harga beras yang tinggi.\\n[Gambas:Video CNN]\\n\\n\",\n          \"PT Pertamina (Persero) kembali menyelenggarakan Pertamina Eco RunFest 2024. Berlangsung di Istora Senayan, Jakarta, Minggu (24/11), acara ini tak sekadar menawarkan ajang lari, tetapi juga mengajak masyarakat untuk mengambil peran aktif dalam menjaga lingkungan.\\nDengan konsep Carbon Neutral Event pertama di Indonesia, Pertamina Eco RunFest menggabungkan olahraga dengan perdagangan karbon, menargetkan pengurangan emisi hingga 876 ton CO2.\\nCorporate Secretary Pertamina, Brahmantya S. Poerwadi, menjelaskan bahwa Pertamina Eco RunFest bukan sekadar acara tahunan, tetapi wujud nyata komitmen perusahaan untuk mengedukasi masyarakat akan pentingnya gaya hidup berkelanjutan (sustainable living).\\nADVERTISEMENT\\nSCROLL TO CONTINUE WITH CONTENT\\n\\\"Dengan tema Energizing the Change, acara Pertamina Eco RunFest 2024 mendorong masyarakat untuk menerapkan hidup yang lebih sehat dan lebih hijau, serta menjaga bumi dengan aksi berkelanjutan melalui beragam aktivitas ramah lingkungan,\\\" jelasnya dalam keterangan tertulis, Rabu (6/11).\\nVice President Corporate Communication Pertamina, Fadjar Djoko Santoso, menambahkan, seluruh elemen acara nantinya akan mengusung konsep zero plastics dengan penggunaan material ramah lingkungan, pengelolaan sampah dan limbah yang baik, serta penyediaan water station untuk mengurangi penggunaan plastik sekali pakai.\\n\\\"Dengan tujuan menginspirasi masyarakat untuk memulai perubahan menuju kehidupan yang lebih hijau, Pertamina Eco RunFest 2024 menjadi simbol nyata komitmen Pertamina dalam mendukung hidup berkelanjutan,\\\" tambah dia.\\nIa melanjutkan, Pertamina juga mengikutkan event Eco RunFest 2024 dalam Carbon Neutral Event, yakni melakukan perdagangan karbon (carbon credit) dari emisi, yang setelah dihitung dengan perhitungan IDX Carbon, emisi ini diperkirakan mencapai 876 ton CO2.\\nJumlah karbon yang dihasilkan pada event ini diantaranya berasal dari penggunaan pesawat para peserta event, penggunaan kendaraan, penggunaan energi selama proses kegiatan, serta perhitungan sampah.\\n\\\"Dengan kampanye ramah lingkungan, kami berharap acara ini akan membawa masyarakat dari segala kelompok usia untuk merasakan pengalaman lari yang penuh semangat, sekaligus inspirasi gaya hidup berkelanjutan,\\\" imbuh Fadjar.\\nIa juga menyebutkan bahwa mereka didukung oleh mitra seperti Savoria Group dan Schneider Electric Indonesia yang mendukung konsep sustainable living dan memiliki semangat yang sama dalam keberlangsungan bumi dan lingkungan.\\nSebagai informasi, Pertamina Eco RunFest terdiri dari kegiatan Eco Run dengan berbagai kategori lari yakni kategori 21K Half Marathon, 10K Run, 5K Fun Run, serta 1,5K Family Run. Eco Run diikuti oleh berbagai kategori umur, termasuk anak yang bisa mengikut kategori Family Run bersama pendamping dewasa.\\nKegiatan ini juga menghadirkan Energizing Music Festival yang menampilkan musisi dari berbagai genre pada tiga panggung besar, di antaranya Happy Asmara, Hivi, Tipe-X, Tiara Andini, Tulus, Maliq & D'Essentials, Sal Priadi, Mahalini, Juicy Luicy, Feel Koplo, Vidi Aldiano, Nadin Amizah, Reality Club, dan Vierratale.\\nDi samping itu, masyarakat dapat mengikuti berbagai kegiatan Eco Workshop berupa kreativitas ramah lingkungan yang dapat diikuti oleh semua kalangan, mulai dari anak hingga dewasa. Serta, beragam tenant dalam area Eco Market, yang menyediakan produk makanan serta minuman, dan produk ramah lingkungan.\\n\\\"Kami mengapresiasi dukungan masyarakat pada kegiatan lari yang juga mengusung konsep sustainable living ini, sehingga seluruh tiket Pertamina Eco RunFest 2024 dapat terjual habis melalui aplikasi MyPertamina. Hal ini membuktikan masyarakat memiliki perhatian besar dalam mewujudkan kualitas hidup yang lebih baik,\\\" ujar Fadjar.\\nIa berharap, Pertamina Eco Run Fest 2024 dapat mengulang kesuksesan ajang tahun sebelumnya, dimana selain diikuti oleh hampir 20 ribu pelari dan penonton, acara ini juga berhasil mendaur ulang 1.746 kg sampah.\\nInformasi lebih lanjut tentang Pertamina Eco Run Fest 2024 dapat ditemukan di situs resmi\\u00a0https://pertaminaecorunfest.com, atau melalui Instagram @pertamina.ecorunfest.\",\n          \"Presiden Prabowo Subianto menambah dua direktorat jenderal (ditjen) baru di Kementerian Keuangan (Kemenkeu).\\nSemula, hanya ada tujuh\\u00a0ditjen di Kemenkeu\\u00a0yang kini dipimpin Menteri Keuangan Sri Mulyani. Sekarang ada dua ditjen anyar, yakni Direktorat Jenderal Strategi Ekonomi dan Fiskal serta Direktorat Jenderal Stabilitas dan Pengembangan Sektor Keuangan.\\nPenambahan itu ditetapkan dalam Peraturan Presiden (Perpres) Nomor 158 Tahun 2024 tentang Kementerian Keuangan. Beleid ini diteken Prabowo pada 5 November 2024.\\nADVERTISEMENT\\nSCROLL TO CONTINUE WITH CONTENT\\n\\\"Direktorat Jenderal Strategi Ekonomi dan Fiskal mempunyai tugas menyelenggarakan perumusan dan pelaksanaan kebijakan di bidang strategi ekonomi dan fiskal sesuai dengan ketentuan peraturan perundang-undangan,\\\" jelas pasal 13 beleid itu, dikutip Rabu (6/11).\\n\\nDitjen ini dipimpin seorang direktur jenderal (dirjen) dan bertanggung jawab kepada menteri keuangan. Dalam menjalankan tugasnya, sang dirjen dibantu sekretariat ditjen serta paling banyak enam direktorat.\\nSementara itu, Ditjen Stabilitas dan Pengembangan Sektor Keuangan diatur di Bagian Kesebelas Perpres Nomor 158 Tahun 2024. Ditjen ini juga dipimpin seorang dirjen dan bertanggung jawab kepada menkeu.\\n\\\"Direktorat Jenderal Stabilitas dan Pengembangan Sektor Keuangan mempunyai tugas menyelenggarakan perumusan dan pelaksanaan kebijakan di bidang sektor keuangan, profesi keuangan, dan kerja sama internasional sektor keuangan sesuai dengan ketentuan peraturan perundang-undangan,\\\" bunyi pasal 45.\\nPraktis, anak buah Menkeu Sri Mulyani kini semakin banyak. Sang Bendahara Negara awalnya cuma dibantu satu wakil menteri keuangan, lalu bertambah menjadi dua, dan kini ada tiga wamenkeu di Kabinet Merah Putih.\\n\\nWanita yang akrab disapa Ani itu juga bakal punya 9 dirjen baru yang siap membantunya. Padahal, semula hanya ada 7 direktorat jenderal di Kementerian Keuangan.\\n1. Direktorat Jenderal Strategi Ekonomi dan Fiskal (baru)2. Direktorat Jenderal Stabilitas dan Pengembangan Sektor Keuangan (baru)3. Direktorat Jenderal Anggaran4. Direktorat Jenderal Pajak5. Direktorat Jenderal Bea dan Cukai6. Direktorat Jenderal Perbendaharaan7. Direktorat Jenderal Kekayaan Negara8. Direktorat Jenderal Perimbangan Keuangan9. Direktorat Jenderal Pengelolaan Pembiayaan dan Risiko.\\n[Gambas:Video CNN]\"\n        ],\n        \"semantic_type\": \"\",\n        \"description\": \"\"\n      }\n    },\n    {\n      \"column\": \"Tanggal\",\n      \"properties\": {\n        \"dtype\": \"string\",\n        \"num_unique_values\": 10,\n        \"samples\": [\n          \"Rabu, 06 Nov 2024 19:22 WIB\",\n          \"Rabu, 06 Nov 2024 20:33 WIB\",\n          \"Rabu, 06 Nov 2024 20:03 WIB\"\n        ],\n        \"semantic_type\": \"\",\n        \"description\": \"\"\n      }\n    },\n    {\n      \"column\": \"Kategori\",\n      \"properties\": {\n        \"dtype\": \"category\",\n        \"num_unique_values\": 1,\n        \"samples\": [\n          \"ekonomi\"\n        ],\n        \"semantic_type\": \"\",\n        \"description\": \"\"\n      }\n    }\n  ]\n}",
       "type": "dataframe",
       "variable_name": "df"
      },
      "text/html": [
       "\n",
       "  <div id=\"df-f10d645f-9197-458c-bea9-03ff5741110b\" class=\"colab-df-container\">\n",
       "    <div>\n",
       "<style scoped>\n",
       "    .dataframe tbody tr th:only-of-type {\n",
       "        vertical-align: middle;\n",
       "    }\n",
       "\n",
       "    .dataframe tbody tr th {\n",
       "        vertical-align: top;\n",
       "    }\n",
       "\n",
       "    .dataframe thead th {\n",
       "        text-align: right;\n",
       "    }\n",
       "</style>\n",
       "<table border=\"1\" class=\"dataframe\">\n",
       "  <thead>\n",
       "    <tr style=\"text-align: right;\">\n",
       "      <th></th>\n",
       "      <th>Judul</th>\n",
       "      <th>Isi</th>\n",
       "      <th>Tanggal</th>\n",
       "      <th>Kategori</th>\n",
       "    </tr>\n",
       "  </thead>\n",
       "  <tbody>\n",
       "    <tr>\n",
       "      <th>0</th>\n",
       "      <td>Utang Pinjol Warga RI Tembus Rp74,48 T per Sep...</td>\n",
       "      <td>Otoritas Jasa Keuangan (OJK) mencatat total pe...</td>\n",
       "      <td>Rabu, 06 Nov 2024 20:46 WIB</td>\n",
       "      <td>ekonomi</td>\n",
       "    </tr>\n",
       "    <tr>\n",
       "      <th>1</th>\n",
       "      <td>Pertamina Eco RunFest 2024, Ajang Lari Karbon ...</td>\n",
       "      <td>PT Pertamina (Persero) kembali menyelenggaraka...</td>\n",
       "      <td>Rabu, 06 Nov 2024 20:33 WIB</td>\n",
       "      <td>ekonomi</td>\n",
       "    </tr>\n",
       "    <tr>\n",
       "      <th>2</th>\n",
       "      <td>Bantuan Pangan Lanjut hingga Februari 2025, Pe...</td>\n",
       "      <td>Kepala Badan Pangan Nasional Arief Prasetyo Ad...</td>\n",
       "      <td>Rabu, 06 Nov 2024 20:28 WIB</td>\n",
       "      <td>ekonomi</td>\n",
       "    </tr>\n",
       "    <tr>\n",
       "      <th>3</th>\n",
       "      <td>Kun Wardana Klaim Bisa Kurangi PHK hingga 1.00...</td>\n",
       "      <td>Calon Wakil Gubernur DKI Jakarta nomor urut 2 ...</td>\n",
       "      <td>Rabu, 06 Nov 2024 20:16 WIB</td>\n",
       "      <td>ekonomi</td>\n",
       "    </tr>\n",
       "    <tr>\n",
       "      <th>4</th>\n",
       "      <td>Komitmen Keselamatan Kerja, SPTP Sosialisasika...</td>\n",
       "      <td>Dalam rangka mewujudkan lingkungan kerja yang ...</td>\n",
       "      <td>Rabu, 06 Nov 2024 20:07 WIB</td>\n",
       "      <td>ekonomi</td>\n",
       "    </tr>\n",
       "    <tr>\n",
       "      <th>5</th>\n",
       "      <td>Prabowo Tambah Dua Ditjen Baru di Kemenkeu, Sr...</td>\n",
       "      <td>Presiden Prabowo Subianto menambah dua direkto...</td>\n",
       "      <td>Rabu, 06 Nov 2024 20:03 WIB</td>\n",
       "      <td>ekonomi</td>\n",
       "    </tr>\n",
       "    <tr>\n",
       "      <th>6</th>\n",
       "      <td>Menaker Pastikan UMP 2025 Naik: Tingkatkan Pen...</td>\n",
       "      <td>Menteri Ketenagakerjaan (Menaker) Yassierli me...</td>\n",
       "      <td>Rabu, 06 Nov 2024 19:47 WIB</td>\n",
       "      <td>ekonomi</td>\n",
       "    </tr>\n",
       "    <tr>\n",
       "      <th>7</th>\n",
       "      <td>Prabowo Batal Luncurkan Badan Pengelola Invest...</td>\n",
       "      <td>Presiden Prabowo Subianto batal meluncurkan Ba...</td>\n",
       "      <td>Rabu, 06 Nov 2024 19:36 WIB</td>\n",
       "      <td>ekonomi</td>\n",
       "    </tr>\n",
       "    <tr>\n",
       "      <th>8</th>\n",
       "      <td>Bos Badan Pangan Klaim Harga Beras-Telur RI Le...</td>\n",
       "      <td>Kepala Badan Pangan Nasional Arief Prasetyo Ad...</td>\n",
       "      <td>Rabu, 06 Nov 2024 19:22 WIB</td>\n",
       "      <td>ekonomi</td>\n",
       "    </tr>\n",
       "    <tr>\n",
       "      <th>9</th>\n",
       "      <td>Potensi Rp2.000 T, RK Mau Bangun Family Office...</td>\n",
       "      <td>Calon gubernur DKI Jakarta Ridwan Kamil (RK) b...</td>\n",
       "      <td>Rabu, 06 Nov 2024 19:02 WIB</td>\n",
       "      <td>ekonomi</td>\n",
       "    </tr>\n",
       "  </tbody>\n",
       "</table>\n",
       "</div>\n",
       "    <div class=\"colab-df-buttons\">\n",
       "\n",
       "  <div class=\"colab-df-container\">\n",
       "    <button class=\"colab-df-convert\" onclick=\"convertToInteractive('df-f10d645f-9197-458c-bea9-03ff5741110b')\"\n",
       "            title=\"Convert this dataframe to an interactive table.\"\n",
       "            style=\"display:none;\">\n",
       "\n",
       "  <svg xmlns=\"http://www.w3.org/2000/svg\" height=\"24px\" viewBox=\"0 -960 960 960\">\n",
       "    <path d=\"M120-120v-720h720v720H120Zm60-500h600v-160H180v160Zm220 220h160v-160H400v160Zm0 220h160v-160H400v160ZM180-400h160v-160H180v160Zm440 0h160v-160H620v160ZM180-180h160v-160H180v160Zm440 0h160v-160H620v160Z\"/>\n",
       "  </svg>\n",
       "    </button>\n",
       "\n",
       "  <style>\n",
       "    .colab-df-container {\n",
       "      display:flex;\n",
       "      gap: 12px;\n",
       "    }\n",
       "\n",
       "    .colab-df-convert {\n",
       "      background-color: #E8F0FE;\n",
       "      border: none;\n",
       "      border-radius: 50%;\n",
       "      cursor: pointer;\n",
       "      display: none;\n",
       "      fill: #1967D2;\n",
       "      height: 32px;\n",
       "      padding: 0 0 0 0;\n",
       "      width: 32px;\n",
       "    }\n",
       "\n",
       "    .colab-df-convert:hover {\n",
       "      background-color: #E2EBFA;\n",
       "      box-shadow: 0px 1px 2px rgba(60, 64, 67, 0.3), 0px 1px 3px 1px rgba(60, 64, 67, 0.15);\n",
       "      fill: #174EA6;\n",
       "    }\n",
       "\n",
       "    .colab-df-buttons div {\n",
       "      margin-bottom: 4px;\n",
       "    }\n",
       "\n",
       "    [theme=dark] .colab-df-convert {\n",
       "      background-color: #3B4455;\n",
       "      fill: #D2E3FC;\n",
       "    }\n",
       "\n",
       "    [theme=dark] .colab-df-convert:hover {\n",
       "      background-color: #434B5C;\n",
       "      box-shadow: 0px 1px 3px 1px rgba(0, 0, 0, 0.15);\n",
       "      filter: drop-shadow(0px 1px 2px rgba(0, 0, 0, 0.3));\n",
       "      fill: #FFFFFF;\n",
       "    }\n",
       "  </style>\n",
       "\n",
       "    <script>\n",
       "      const buttonEl =\n",
       "        document.querySelector('#df-f10d645f-9197-458c-bea9-03ff5741110b button.colab-df-convert');\n",
       "      buttonEl.style.display =\n",
       "        google.colab.kernel.accessAllowed ? 'block' : 'none';\n",
       "\n",
       "      async function convertToInteractive(key) {\n",
       "        const element = document.querySelector('#df-f10d645f-9197-458c-bea9-03ff5741110b');\n",
       "        const dataTable =\n",
       "          await google.colab.kernel.invokeFunction('convertToInteractive',\n",
       "                                                    [key], {});\n",
       "        if (!dataTable) return;\n",
       "\n",
       "        const docLinkHtml = 'Like what you see? Visit the ' +\n",
       "          '<a target=\"_blank\" href=https://colab.research.google.com/notebooks/data_table.ipynb>data table notebook</a>'\n",
       "          + ' to learn more about interactive tables.';\n",
       "        element.innerHTML = '';\n",
       "        dataTable['output_type'] = 'display_data';\n",
       "        await google.colab.output.renderOutput(dataTable, element);\n",
       "        const docLink = document.createElement('div');\n",
       "        docLink.innerHTML = docLinkHtml;\n",
       "        element.appendChild(docLink);\n",
       "      }\n",
       "    </script>\n",
       "  </div>\n",
       "\n",
       "\n",
       "<div id=\"df-ea01e7af-9225-4903-b838-fe2cc3b2b752\">\n",
       "  <button class=\"colab-df-quickchart\" onclick=\"quickchart('df-ea01e7af-9225-4903-b838-fe2cc3b2b752')\"\n",
       "            title=\"Suggest charts\"\n",
       "            style=\"display:none;\">\n",
       "\n",
       "<svg xmlns=\"http://www.w3.org/2000/svg\" height=\"24px\"viewBox=\"0 0 24 24\"\n",
       "     width=\"24px\">\n",
       "    <g>\n",
       "        <path d=\"M19 3H5c-1.1 0-2 .9-2 2v14c0 1.1.9 2 2 2h14c1.1 0 2-.9 2-2V5c0-1.1-.9-2-2-2zM9 17H7v-7h2v7zm4 0h-2V7h2v10zm4 0h-2v-4h2v4z\"/>\n",
       "    </g>\n",
       "</svg>\n",
       "  </button>\n",
       "\n",
       "<style>\n",
       "  .colab-df-quickchart {\n",
       "      --bg-color: #E8F0FE;\n",
       "      --fill-color: #1967D2;\n",
       "      --hover-bg-color: #E2EBFA;\n",
       "      --hover-fill-color: #174EA6;\n",
       "      --disabled-fill-color: #AAA;\n",
       "      --disabled-bg-color: #DDD;\n",
       "  }\n",
       "\n",
       "  [theme=dark] .colab-df-quickchart {\n",
       "      --bg-color: #3B4455;\n",
       "      --fill-color: #D2E3FC;\n",
       "      --hover-bg-color: #434B5C;\n",
       "      --hover-fill-color: #FFFFFF;\n",
       "      --disabled-bg-color: #3B4455;\n",
       "      --disabled-fill-color: #666;\n",
       "  }\n",
       "\n",
       "  .colab-df-quickchart {\n",
       "    background-color: var(--bg-color);\n",
       "    border: none;\n",
       "    border-radius: 50%;\n",
       "    cursor: pointer;\n",
       "    display: none;\n",
       "    fill: var(--fill-color);\n",
       "    height: 32px;\n",
       "    padding: 0;\n",
       "    width: 32px;\n",
       "  }\n",
       "\n",
       "  .colab-df-quickchart:hover {\n",
       "    background-color: var(--hover-bg-color);\n",
       "    box-shadow: 0 1px 2px rgba(60, 64, 67, 0.3), 0 1px 3px 1px rgba(60, 64, 67, 0.15);\n",
       "    fill: var(--button-hover-fill-color);\n",
       "  }\n",
       "\n",
       "  .colab-df-quickchart-complete:disabled,\n",
       "  .colab-df-quickchart-complete:disabled:hover {\n",
       "    background-color: var(--disabled-bg-color);\n",
       "    fill: var(--disabled-fill-color);\n",
       "    box-shadow: none;\n",
       "  }\n",
       "\n",
       "  .colab-df-spinner {\n",
       "    border: 2px solid var(--fill-color);\n",
       "    border-color: transparent;\n",
       "    border-bottom-color: var(--fill-color);\n",
       "    animation:\n",
       "      spin 1s steps(1) infinite;\n",
       "  }\n",
       "\n",
       "  @keyframes spin {\n",
       "    0% {\n",
       "      border-color: transparent;\n",
       "      border-bottom-color: var(--fill-color);\n",
       "      border-left-color: var(--fill-color);\n",
       "    }\n",
       "    20% {\n",
       "      border-color: transparent;\n",
       "      border-left-color: var(--fill-color);\n",
       "      border-top-color: var(--fill-color);\n",
       "    }\n",
       "    30% {\n",
       "      border-color: transparent;\n",
       "      border-left-color: var(--fill-color);\n",
       "      border-top-color: var(--fill-color);\n",
       "      border-right-color: var(--fill-color);\n",
       "    }\n",
       "    40% {\n",
       "      border-color: transparent;\n",
       "      border-right-color: var(--fill-color);\n",
       "      border-top-color: var(--fill-color);\n",
       "    }\n",
       "    60% {\n",
       "      border-color: transparent;\n",
       "      border-right-color: var(--fill-color);\n",
       "    }\n",
       "    80% {\n",
       "      border-color: transparent;\n",
       "      border-right-color: var(--fill-color);\n",
       "      border-bottom-color: var(--fill-color);\n",
       "    }\n",
       "    90% {\n",
       "      border-color: transparent;\n",
       "      border-bottom-color: var(--fill-color);\n",
       "    }\n",
       "  }\n",
       "</style>\n",
       "\n",
       "  <script>\n",
       "    async function quickchart(key) {\n",
       "      const quickchartButtonEl =\n",
       "        document.querySelector('#' + key + ' button');\n",
       "      quickchartButtonEl.disabled = true;  // To prevent multiple clicks.\n",
       "      quickchartButtonEl.classList.add('colab-df-spinner');\n",
       "      try {\n",
       "        const charts = await google.colab.kernel.invokeFunction(\n",
       "            'suggestCharts', [key], {});\n",
       "      } catch (error) {\n",
       "        console.error('Error during call to suggestCharts:', error);\n",
       "      }\n",
       "      quickchartButtonEl.classList.remove('colab-df-spinner');\n",
       "      quickchartButtonEl.classList.add('colab-df-quickchart-complete');\n",
       "    }\n",
       "    (() => {\n",
       "      let quickchartButtonEl =\n",
       "        document.querySelector('#df-ea01e7af-9225-4903-b838-fe2cc3b2b752 button');\n",
       "      quickchartButtonEl.style.display =\n",
       "        google.colab.kernel.accessAllowed ? 'block' : 'none';\n",
       "    })();\n",
       "  </script>\n",
       "</div>\n",
       "\n",
       "  <div id=\"id_fce174f2-9e43-4f2c-a145-007bc0c80858\">\n",
       "    <style>\n",
       "      .colab-df-generate {\n",
       "        background-color: #E8F0FE;\n",
       "        border: none;\n",
       "        border-radius: 50%;\n",
       "        cursor: pointer;\n",
       "        display: none;\n",
       "        fill: #1967D2;\n",
       "        height: 32px;\n",
       "        padding: 0 0 0 0;\n",
       "        width: 32px;\n",
       "      }\n",
       "\n",
       "      .colab-df-generate:hover {\n",
       "        background-color: #E2EBFA;\n",
       "        box-shadow: 0px 1px 2px rgba(60, 64, 67, 0.3), 0px 1px 3px 1px rgba(60, 64, 67, 0.15);\n",
       "        fill: #174EA6;\n",
       "      }\n",
       "\n",
       "      [theme=dark] .colab-df-generate {\n",
       "        background-color: #3B4455;\n",
       "        fill: #D2E3FC;\n",
       "      }\n",
       "\n",
       "      [theme=dark] .colab-df-generate:hover {\n",
       "        background-color: #434B5C;\n",
       "        box-shadow: 0px 1px 3px 1px rgba(0, 0, 0, 0.15);\n",
       "        filter: drop-shadow(0px 1px 2px rgba(0, 0, 0, 0.3));\n",
       "        fill: #FFFFFF;\n",
       "      }\n",
       "    </style>\n",
       "    <button class=\"colab-df-generate\" onclick=\"generateWithVariable('df')\"\n",
       "            title=\"Generate code using this dataframe.\"\n",
       "            style=\"display:none;\">\n",
       "\n",
       "  <svg xmlns=\"http://www.w3.org/2000/svg\" height=\"24px\"viewBox=\"0 0 24 24\"\n",
       "       width=\"24px\">\n",
       "    <path d=\"M7,19H8.4L18.45,9,17,7.55,7,17.6ZM5,21V16.75L18.45,3.32a2,2,0,0,1,2.83,0l1.4,1.43a1.91,1.91,0,0,1,.58,1.4,1.91,1.91,0,0,1-.58,1.4L9.25,21ZM18.45,9,17,7.55Zm-12,3A5.31,5.31,0,0,0,4.9,8.1,5.31,5.31,0,0,0,1,6.5,5.31,5.31,0,0,0,4.9,4.9,5.31,5.31,0,0,0,6.5,1,5.31,5.31,0,0,0,8.1,4.9,5.31,5.31,0,0,0,12,6.5,5.46,5.46,0,0,0,6.5,12Z\"/>\n",
       "  </svg>\n",
       "    </button>\n",
       "    <script>\n",
       "      (() => {\n",
       "      const buttonEl =\n",
       "        document.querySelector('#id_fce174f2-9e43-4f2c-a145-007bc0c80858 button.colab-df-generate');\n",
       "      buttonEl.style.display =\n",
       "        google.colab.kernel.accessAllowed ? 'block' : 'none';\n",
       "\n",
       "      buttonEl.onclick = () => {\n",
       "        google.colab.notebook.generateWithVariable('df');\n",
       "      }\n",
       "      })();\n",
       "    </script>\n",
       "  </div>\n",
       "\n",
       "    </div>\n",
       "  </div>\n"
      ],
      "text/plain": [
       "                                               Judul  \\\n",
       "0  Utang Pinjol Warga RI Tembus Rp74,48 T per Sep...   \n",
       "1  Pertamina Eco RunFest 2024, Ajang Lari Karbon ...   \n",
       "2  Bantuan Pangan Lanjut hingga Februari 2025, Pe...   \n",
       "3  Kun Wardana Klaim Bisa Kurangi PHK hingga 1.00...   \n",
       "4  Komitmen Keselamatan Kerja, SPTP Sosialisasika...   \n",
       "5  Prabowo Tambah Dua Ditjen Baru di Kemenkeu, Sr...   \n",
       "6  Menaker Pastikan UMP 2025 Naik: Tingkatkan Pen...   \n",
       "7  Prabowo Batal Luncurkan Badan Pengelola Invest...   \n",
       "8  Bos Badan Pangan Klaim Harga Beras-Telur RI Le...   \n",
       "9  Potensi Rp2.000 T, RK Mau Bangun Family Office...   \n",
       "\n",
       "                                                 Isi  \\\n",
       "0  Otoritas Jasa Keuangan (OJK) mencatat total pe...   \n",
       "1  PT Pertamina (Persero) kembali menyelenggaraka...   \n",
       "2  Kepala Badan Pangan Nasional Arief Prasetyo Ad...   \n",
       "3  Calon Wakil Gubernur DKI Jakarta nomor urut 2 ...   \n",
       "4  Dalam rangka mewujudkan lingkungan kerja yang ...   \n",
       "5  Presiden Prabowo Subianto menambah dua direkto...   \n",
       "6  Menteri Ketenagakerjaan (Menaker) Yassierli me...   \n",
       "7  Presiden Prabowo Subianto batal meluncurkan Ba...   \n",
       "8  Kepala Badan Pangan Nasional Arief Prasetyo Ad...   \n",
       "9  Calon gubernur DKI Jakarta Ridwan Kamil (RK) b...   \n",
       "\n",
       "                       Tanggal Kategori  \n",
       "0  Rabu, 06 Nov 2024 20:46 WIB  ekonomi  \n",
       "1  Rabu, 06 Nov 2024 20:33 WIB  ekonomi  \n",
       "2  Rabu, 06 Nov 2024 20:28 WIB  ekonomi  \n",
       "3  Rabu, 06 Nov 2024 20:16 WIB  ekonomi  \n",
       "4  Rabu, 06 Nov 2024 20:07 WIB  ekonomi  \n",
       "5  Rabu, 06 Nov 2024 20:03 WIB  ekonomi  \n",
       "6  Rabu, 06 Nov 2024 19:47 WIB  ekonomi  \n",
       "7  Rabu, 06 Nov 2024 19:36 WIB  ekonomi  \n",
       "8  Rabu, 06 Nov 2024 19:22 WIB  ekonomi  \n",
       "9  Rabu, 06 Nov 2024 19:02 WIB  ekonomi  "
      ]
     },
     "execution_count": 54,
     "metadata": {},
     "output_type": "execute_result"
    }
   ],
   "source": [
    "df = pd.DataFrame(all_articles)\n",
    "df"
   ]
  },
  {
   "cell_type": "markdown",
   "metadata": {
    "id": "bV7BpGxU-7QB"
   },
   "source": [
    "## Simpan ke dalam Format CSV"
   ]
  },
  {
   "cell_type": "code",
   "execution_count": 55,
   "metadata": {
    "id": "bgyGO23_H8sI"
   },
   "outputs": [],
   "source": [
    "df.to_csv('crawl_berita.csv', index=False, encoding='utf-8')"
   ]
  }
 ],
 "metadata": {
  "colab": {
   "provenance": []
  },
  "kernelspec": {
   "display_name": "Python 3",
   "name": "python3"
  },
  "language_info": {
   "name": "python"
  }
 },
 "nbformat": 4,
 "nbformat_minor": 0
}
